{
 "cells": [
  {
   "cell_type": "code",
   "execution_count": 1,
   "id": "046660c8",
   "metadata": {},
   "outputs": [
    {
     "name": "stdout",
     "output_type": "stream",
     "text": [
      "Requirement already satisfied: faiss-cpu in c:\\users\\yngve\\appdata\\local\\programs\\python\\python310\\lib\\site-packages (1.7.4)\n",
      "Requirement already satisfied: fuzzywuzzy in c:\\users\\yngve\\appdata\\local\\programs\\python\\python310\\lib\\site-packages (0.18.0)\n",
      "Requirement already satisfied: pandas in c:\\users\\yngve\\appdata\\local\\programs\\python\\python310\\lib\\site-packages (2.0.0)\n",
      "Requirement already satisfied: scipy in c:\\users\\yngve\\appdata\\local\\programs\\python\\python310\\lib\\site-packages (1.9.3)\n",
      "Requirement already satisfied: scikit-learn in c:\\users\\yngve\\appdata\\local\\programs\\python\\python310\\lib\\site-packages (1.2.0)\n",
      "Requirement already satisfied: python-levenshtein in c:\\users\\yngve\\appdata\\local\\programs\\python\\python310\\lib\\site-packages (0.21.1)\n",
      "Requirement already satisfied: umap-learn in c:\\users\\yngve\\appdata\\local\\programs\\python\\python310\\lib\\site-packages (0.5.3)\n",
      "Requirement already satisfied: pytz>=2020.1 in c:\\users\\yngve\\appdata\\local\\programs\\python\\python310\\lib\\site-packages (from pandas) (2022.6)\n",
      "Requirement already satisfied: tzdata>=2022.1 in c:\\users\\yngve\\appdata\\local\\programs\\python\\python310\\lib\\site-packages (from pandas) (2023.3)\n",
      "Requirement already satisfied: numpy>=1.21.0 in c:\\users\\yngve\\appdata\\local\\programs\\python\\python310\\lib\\site-packages (from pandas) (1.24.4)\n",
      "Requirement already satisfied: python-dateutil>=2.8.2 in c:\\users\\yngve\\appdata\\local\\programs\\python\\python310\\lib\\site-packages (from pandas) (2.8.2)\n",
      "Requirement already satisfied: joblib>=1.1.1 in c:\\users\\yngve\\appdata\\local\\programs\\python\\python310\\lib\\site-packages (from scikit-learn) (1.2.0)\n",
      "Requirement already satisfied: threadpoolctl>=2.0.0 in c:\\users\\yngve\\appdata\\local\\programs\\python\\python310\\lib\\site-packages (from scikit-learn) (3.1.0)\n",
      "Requirement already satisfied: Levenshtein==0.21.1 in c:\\users\\yngve\\appdata\\local\\programs\\python\\python310\\lib\\site-packages (from python-levenshtein) (0.21.1)\n",
      "Requirement already satisfied: rapidfuzz<4.0.0,>=2.3.0 in c:\\users\\yngve\\appdata\\local\\programs\\python\\python310\\lib\\site-packages (from Levenshtein==0.21.1->python-levenshtein) (3.2.0)\n",
      "Requirement already satisfied: pynndescent>=0.5 in c:\\users\\yngve\\appdata\\local\\programs\\python\\python310\\lib\\site-packages (from umap-learn) (0.5.10)\n",
      "Requirement already satisfied: numba>=0.49 in c:\\users\\yngve\\appdata\\local\\programs\\python\\python310\\lib\\site-packages (from umap-learn) (0.57.1)\n",
      "Requirement already satisfied: tqdm in c:\\users\\yngve\\appdata\\local\\programs\\python\\python310\\lib\\site-packages (from umap-learn) (4.64.1)\n",
      "Requirement already satisfied: llvmlite<0.41,>=0.40.0dev0 in c:\\users\\yngve\\appdata\\local\\programs\\python\\python310\\lib\\site-packages (from numba>=0.49->umap-learn) (0.40.1)\n",
      "Requirement already satisfied: six>=1.5 in c:\\users\\yngve\\appdata\\local\\programs\\python\\python310\\lib\\site-packages (from python-dateutil>=2.8.2->pandas) (1.16.0)\n",
      "Requirement already satisfied: colorama in c:\\users\\yngve\\appdata\\local\\programs\\python\\python310\\lib\\site-packages (from tqdm->umap-learn) (0.4.6)\n"
     ]
    },
    {
     "name": "stderr",
     "output_type": "stream",
     "text": [
      "WARNING: You are using pip version 21.2.3; however, version 23.2.1 is available.\n",
      "You should consider upgrading via the 'C:\\Users\\yngve\\AppData\\Local\\Programs\\Python\\Python310\\python.exe -m pip install --upgrade pip' command.\n"
     ]
    }
   ],
   "source": [
    "!pip install faiss-cpu fuzzywuzzy pandas scipy scikit-learn python-levenshtein umap-learn"
   ]
  },
  {
   "cell_type": "markdown",
   "id": "1441aaa7",
   "metadata": {},
   "source": [
    "# Setup"
   ]
  },
  {
   "cell_type": "markdown",
   "id": "4ae4b126",
   "metadata": {},
   "source": [
    "## Imports"
   ]
  },
  {
   "cell_type": "code",
   "execution_count": 2,
   "id": "6f496524",
   "metadata": {},
   "outputs": [],
   "source": [
    "import faiss  # Approximate nearest neighbour\n",
    "import fuzzywuzzy.process  # Fuzzy search for movie titles\n",
    "import numpy as np  # Linear algebra\n",
    "import pandas as pd  # Loading data\n",
    "\n",
    "from scipy.sparse import csr_matrix  # Sparse matrix\n",
    "import scipy.sparse.linalg as spla  # Linear algebra with sparse matrices\n",
    "from sklearn.decomposition import TruncatedSVD  # Fast matrix factorisation"
   ]
  },
  {
   "cell_type": "markdown",
   "id": "e4593d2f",
   "metadata": {},
   "source": [
    "## Download data"
   ]
  },
  {
   "cell_type": "code",
   "execution_count": 3,
   "id": "449735c3",
   "metadata": {},
   "outputs": [],
   "source": [
    "ratings = pd.read_csv('https://s3-us-west-2.amazonaws.com/recommender-tutorial/ratings.csv')\n",
    "movies = pd.read_csv('https://s3-us-west-2.amazonaws.com/recommender-tutorial/movies.csv')"
   ]
  },
  {
   "cell_type": "markdown",
   "id": "50755ac7",
   "metadata": {},
   "source": [
    "## Dummy enconding of the genres"
   ]
  },
  {
   "cell_type": "code",
   "execution_count": 4,
   "id": "f56a59df",
   "metadata": {},
   "outputs": [],
   "source": [
    "all_genres = set(movies[\"genres\"].str.split(\"|\").sum())\n",
    "for genre in all_genres:\n",
    "    movies[genre] = movies[\"genres\"].map(lambda x: genre in x).astype(float)"
   ]
  },
  {
   "cell_type": "markdown",
   "id": "3dc216f8",
   "metadata": {},
   "source": [
    "## Mapping from movie and user ID to row and column index"
   ]
  },
  {
   "cell_type": "code",
   "execution_count": 5,
   "id": "36ad62ba",
   "metadata": {},
   "outputs": [],
   "source": [
    "user_loc = {uid: i for i, uid in enumerate(sorted(ratings[\"userId\"].unique()))}\n",
    "movie_loc = {mid: i for i, mid in enumerate(sorted(ratings[\"movieId\"].unique()))}\n",
    "\n",
    "ratings[\"colId\"] = ratings[\"userId\"].map(user_loc)\n",
    "ratings[\"rowId\"] = ratings[\"movieId\"].map(movie_loc)\n",
    "movies[\"rowId\"] = movies[\"movieId\"].map(movie_loc)\n",
    "movies = movies.dropna().sort_values(\"rowId\")"
   ]
  },
  {
   "cell_type": "markdown",
   "id": "ea14bae5",
   "metadata": {},
   "source": [
    "## Look at data"
   ]
  },
  {
   "cell_type": "code",
   "execution_count": 6,
   "id": "b895eea4",
   "metadata": {},
   "outputs": [
    {
     "data": {
      "text/html": [
       "<div>\n",
       "<style scoped>\n",
       "    .dataframe tbody tr th:only-of-type {\n",
       "        vertical-align: middle;\n",
       "    }\n",
       "\n",
       "    .dataframe tbody tr th {\n",
       "        vertical-align: top;\n",
       "    }\n",
       "\n",
       "    .dataframe thead th {\n",
       "        text-align: right;\n",
       "    }\n",
       "</style>\n",
       "<table border=\"1\" class=\"dataframe\">\n",
       "  <thead>\n",
       "    <tr style=\"text-align: right;\">\n",
       "      <th></th>\n",
       "      <th>movieId</th>\n",
       "      <th>title</th>\n",
       "      <th>genres</th>\n",
       "      <th>Adventure</th>\n",
       "      <th>Crime</th>\n",
       "      <th>Documentary</th>\n",
       "      <th>Comedy</th>\n",
       "      <th>Film-Noir</th>\n",
       "      <th>Mystery</th>\n",
       "      <th>Horror</th>\n",
       "      <th>...</th>\n",
       "      <th>Animation</th>\n",
       "      <th>Musical</th>\n",
       "      <th>IMAX</th>\n",
       "      <th>(no genres listed)</th>\n",
       "      <th>Western</th>\n",
       "      <th>War</th>\n",
       "      <th>Fantasy</th>\n",
       "      <th>Children</th>\n",
       "      <th>Action</th>\n",
       "      <th>rowId</th>\n",
       "    </tr>\n",
       "  </thead>\n",
       "  <tbody>\n",
       "    <tr>\n",
       "      <th>0</th>\n",
       "      <td>1</td>\n",
       "      <td>Toy Story (1995)</td>\n",
       "      <td>Adventure|Animation|Children|Comedy|Fantasy</td>\n",
       "      <td>1.0</td>\n",
       "      <td>0.0</td>\n",
       "      <td>0.0</td>\n",
       "      <td>1.0</td>\n",
       "      <td>0.0</td>\n",
       "      <td>0.0</td>\n",
       "      <td>0.0</td>\n",
       "      <td>...</td>\n",
       "      <td>1.0</td>\n",
       "      <td>0.0</td>\n",
       "      <td>0.0</td>\n",
       "      <td>0.0</td>\n",
       "      <td>0.0</td>\n",
       "      <td>0.0</td>\n",
       "      <td>1.0</td>\n",
       "      <td>1.0</td>\n",
       "      <td>0.0</td>\n",
       "      <td>0.0</td>\n",
       "    </tr>\n",
       "    <tr>\n",
       "      <th>1</th>\n",
       "      <td>2</td>\n",
       "      <td>Jumanji (1995)</td>\n",
       "      <td>Adventure|Children|Fantasy</td>\n",
       "      <td>1.0</td>\n",
       "      <td>0.0</td>\n",
       "      <td>0.0</td>\n",
       "      <td>0.0</td>\n",
       "      <td>0.0</td>\n",
       "      <td>0.0</td>\n",
       "      <td>0.0</td>\n",
       "      <td>...</td>\n",
       "      <td>0.0</td>\n",
       "      <td>0.0</td>\n",
       "      <td>0.0</td>\n",
       "      <td>0.0</td>\n",
       "      <td>0.0</td>\n",
       "      <td>0.0</td>\n",
       "      <td>1.0</td>\n",
       "      <td>1.0</td>\n",
       "      <td>0.0</td>\n",
       "      <td>1.0</td>\n",
       "    </tr>\n",
       "    <tr>\n",
       "      <th>2</th>\n",
       "      <td>3</td>\n",
       "      <td>Grumpier Old Men (1995)</td>\n",
       "      <td>Comedy|Romance</td>\n",
       "      <td>0.0</td>\n",
       "      <td>0.0</td>\n",
       "      <td>0.0</td>\n",
       "      <td>1.0</td>\n",
       "      <td>0.0</td>\n",
       "      <td>0.0</td>\n",
       "      <td>0.0</td>\n",
       "      <td>...</td>\n",
       "      <td>0.0</td>\n",
       "      <td>0.0</td>\n",
       "      <td>0.0</td>\n",
       "      <td>0.0</td>\n",
       "      <td>0.0</td>\n",
       "      <td>0.0</td>\n",
       "      <td>0.0</td>\n",
       "      <td>0.0</td>\n",
       "      <td>0.0</td>\n",
       "      <td>2.0</td>\n",
       "    </tr>\n",
       "    <tr>\n",
       "      <th>3</th>\n",
       "      <td>4</td>\n",
       "      <td>Waiting to Exhale (1995)</td>\n",
       "      <td>Comedy|Drama|Romance</td>\n",
       "      <td>0.0</td>\n",
       "      <td>0.0</td>\n",
       "      <td>0.0</td>\n",
       "      <td>1.0</td>\n",
       "      <td>0.0</td>\n",
       "      <td>0.0</td>\n",
       "      <td>0.0</td>\n",
       "      <td>...</td>\n",
       "      <td>0.0</td>\n",
       "      <td>0.0</td>\n",
       "      <td>0.0</td>\n",
       "      <td>0.0</td>\n",
       "      <td>0.0</td>\n",
       "      <td>0.0</td>\n",
       "      <td>0.0</td>\n",
       "      <td>0.0</td>\n",
       "      <td>0.0</td>\n",
       "      <td>3.0</td>\n",
       "    </tr>\n",
       "    <tr>\n",
       "      <th>4</th>\n",
       "      <td>5</td>\n",
       "      <td>Father of the Bride Part II (1995)</td>\n",
       "      <td>Comedy</td>\n",
       "      <td>0.0</td>\n",
       "      <td>0.0</td>\n",
       "      <td>0.0</td>\n",
       "      <td>1.0</td>\n",
       "      <td>0.0</td>\n",
       "      <td>0.0</td>\n",
       "      <td>0.0</td>\n",
       "      <td>...</td>\n",
       "      <td>0.0</td>\n",
       "      <td>0.0</td>\n",
       "      <td>0.0</td>\n",
       "      <td>0.0</td>\n",
       "      <td>0.0</td>\n",
       "      <td>0.0</td>\n",
       "      <td>0.0</td>\n",
       "      <td>0.0</td>\n",
       "      <td>0.0</td>\n",
       "      <td>4.0</td>\n",
       "    </tr>\n",
       "  </tbody>\n",
       "</table>\n",
       "<p>5 rows × 24 columns</p>\n",
       "</div>"
      ],
      "text/plain": [
       "   movieId                               title   \n",
       "0        1                    Toy Story (1995)  \\\n",
       "1        2                      Jumanji (1995)   \n",
       "2        3             Grumpier Old Men (1995)   \n",
       "3        4            Waiting to Exhale (1995)   \n",
       "4        5  Father of the Bride Part II (1995)   \n",
       "\n",
       "                                        genres  Adventure  Crime  Documentary   \n",
       "0  Adventure|Animation|Children|Comedy|Fantasy        1.0    0.0          0.0  \\\n",
       "1                   Adventure|Children|Fantasy        1.0    0.0          0.0   \n",
       "2                               Comedy|Romance        0.0    0.0          0.0   \n",
       "3                         Comedy|Drama|Romance        0.0    0.0          0.0   \n",
       "4                                       Comedy        0.0    0.0          0.0   \n",
       "\n",
       "   Comedy  Film-Noir  Mystery  Horror  ...  Animation  Musical  IMAX   \n",
       "0     1.0        0.0      0.0     0.0  ...        1.0      0.0   0.0  \\\n",
       "1     0.0        0.0      0.0     0.0  ...        0.0      0.0   0.0   \n",
       "2     1.0        0.0      0.0     0.0  ...        0.0      0.0   0.0   \n",
       "3     1.0        0.0      0.0     0.0  ...        0.0      0.0   0.0   \n",
       "4     1.0        0.0      0.0     0.0  ...        0.0      0.0   0.0   \n",
       "\n",
       "   (no genres listed)  Western  War  Fantasy  Children  Action  rowId  \n",
       "0                 0.0      0.0  0.0      1.0       1.0     0.0    0.0  \n",
       "1                 0.0      0.0  0.0      1.0       1.0     0.0    1.0  \n",
       "2                 0.0      0.0  0.0      0.0       0.0     0.0    2.0  \n",
       "3                 0.0      0.0  0.0      0.0       0.0     0.0    3.0  \n",
       "4                 0.0      0.0  0.0      0.0       0.0     0.0    4.0  \n",
       "\n",
       "[5 rows x 24 columns]"
      ]
     },
     "execution_count": 6,
     "metadata": {},
     "output_type": "execute_result"
    }
   ],
   "source": [
    "movies.head()"
   ]
  },
  {
   "cell_type": "code",
   "execution_count": 7,
   "id": "d498cc51",
   "metadata": {},
   "outputs": [
    {
     "data": {
      "text/html": [
       "<div>\n",
       "<style scoped>\n",
       "    .dataframe tbody tr th:only-of-type {\n",
       "        vertical-align: middle;\n",
       "    }\n",
       "\n",
       "    .dataframe tbody tr th {\n",
       "        vertical-align: top;\n",
       "    }\n",
       "\n",
       "    .dataframe thead th {\n",
       "        text-align: right;\n",
       "    }\n",
       "</style>\n",
       "<table border=\"1\" class=\"dataframe\">\n",
       "  <thead>\n",
       "    <tr style=\"text-align: right;\">\n",
       "      <th></th>\n",
       "      <th>userId</th>\n",
       "      <th>movieId</th>\n",
       "      <th>rating</th>\n",
       "      <th>timestamp</th>\n",
       "      <th>colId</th>\n",
       "      <th>rowId</th>\n",
       "    </tr>\n",
       "  </thead>\n",
       "  <tbody>\n",
       "    <tr>\n",
       "      <th>0</th>\n",
       "      <td>1</td>\n",
       "      <td>1</td>\n",
       "      <td>4.0</td>\n",
       "      <td>964982703</td>\n",
       "      <td>0</td>\n",
       "      <td>0</td>\n",
       "    </tr>\n",
       "    <tr>\n",
       "      <th>1</th>\n",
       "      <td>1</td>\n",
       "      <td>3</td>\n",
       "      <td>4.0</td>\n",
       "      <td>964981247</td>\n",
       "      <td>0</td>\n",
       "      <td>2</td>\n",
       "    </tr>\n",
       "    <tr>\n",
       "      <th>2</th>\n",
       "      <td>1</td>\n",
       "      <td>6</td>\n",
       "      <td>4.0</td>\n",
       "      <td>964982224</td>\n",
       "      <td>0</td>\n",
       "      <td>5</td>\n",
       "    </tr>\n",
       "    <tr>\n",
       "      <th>3</th>\n",
       "      <td>1</td>\n",
       "      <td>47</td>\n",
       "      <td>5.0</td>\n",
       "      <td>964983815</td>\n",
       "      <td>0</td>\n",
       "      <td>43</td>\n",
       "    </tr>\n",
       "    <tr>\n",
       "      <th>4</th>\n",
       "      <td>1</td>\n",
       "      <td>50</td>\n",
       "      <td>5.0</td>\n",
       "      <td>964982931</td>\n",
       "      <td>0</td>\n",
       "      <td>46</td>\n",
       "    </tr>\n",
       "  </tbody>\n",
       "</table>\n",
       "</div>"
      ],
      "text/plain": [
       "   userId  movieId  rating  timestamp  colId  rowId\n",
       "0       1        1     4.0  964982703      0      0\n",
       "1       1        3     4.0  964981247      0      2\n",
       "2       1        6     4.0  964982224      0      5\n",
       "3       1       47     5.0  964983815      0     43\n",
       "4       1       50     5.0  964982931      0     46"
      ]
     },
     "execution_count": 7,
     "metadata": {},
     "output_type": "execute_result"
    }
   ],
   "source": [
    "ratings.head()"
   ]
  },
  {
   "cell_type": "markdown",
   "id": "67c85144",
   "metadata": {},
   "source": [
    "## Utilities for mapping the matrix entries to movies"
   ]
  },
  {
   "cell_type": "code",
   "execution_count": 8,
   "id": "c1d60a92",
   "metadata": {},
   "outputs": [],
   "source": [
    "title_to_row = dict(zip(movies[\"title\"], movies[\"rowId\"]))\n",
    "row_to_title = dict(zip(movies[\"rowId\"], movies[\"title\"]))\n",
    "\n",
    "def movie_finder(title):\n",
    "    closest_match = fuzzywuzzy.process.extractOne(title, title_to_row.keys())\n",
    "    \n",
    "    return closest_match[0], int(title_to_row[closest_match[0]])"
   ]
  },
  {
   "cell_type": "markdown",
   "id": "19c6117a",
   "metadata": {},
   "source": [
    "## We are interested in movies similar to Pulp Fiction"
   ]
  },
  {
   "cell_type": "code",
   "execution_count": 9,
   "id": "e9ca0b23",
   "metadata": {},
   "outputs": [
    {
     "data": {
      "text/plain": [
       "movieId                                       296\n",
       "title                         Pulp Fiction (1994)\n",
       "genres                Comedy|Crime|Drama|Thriller\n",
       "Adventure                                     0.0\n",
       "Crime                                         1.0\n",
       "Documentary                                   0.0\n",
       "Comedy                                        1.0\n",
       "Film-Noir                                     0.0\n",
       "Mystery                                       0.0\n",
       "Horror                                        0.0\n",
       "Romance                                       0.0\n",
       "Sci-Fi                                        0.0\n",
       "Drama                                         1.0\n",
       "Thriller                                      1.0\n",
       "Animation                                     0.0\n",
       "Musical                                       0.0\n",
       "IMAX                                          0.0\n",
       "(no genres listed)                            0.0\n",
       "Western                                       0.0\n",
       "War                                           0.0\n",
       "Fantasy                                       0.0\n",
       "Children                                      0.0\n",
       "Action                                        0.0\n",
       "rowId                                       257.0\n",
       "Name: 257, dtype: object"
      ]
     },
     "execution_count": 9,
     "metadata": {},
     "output_type": "execute_result"
    }
   ],
   "source": [
    "# Look up recommendations for Pulp Fiction\n",
    "movie, movie_index = movie_finder(\"pulp fiction\")\n",
    "movies.loc[movie_index]"
   ]
  },
  {
   "cell_type": "markdown",
   "id": "122450e7",
   "metadata": {},
   "source": [
    "# Content-based filtering with approximate nearest neighbour"
   ]
  },
  {
   "cell_type": "code",
   "execution_count": 10,
   "id": "e0640660",
   "metadata": {},
   "outputs": [],
   "source": [
    "# Create data matrix: Only dummy encoded genres\n",
    "# The movie dataframe is in the correct order since we sorted it by row ID earlier\n",
    "movie_features = movies[sorted(all_genres)]\n",
    "\n",
    "# Normalise since then inner product is cosine similarity\n",
    "content_matrix = movie_features.values / np.linalg.norm(movie_features.values, axis=1, keepdims=True)\n",
    "\n",
    "# Create approximate nearest neighbour search index\n",
    "index = faiss.IndexFlatIP(movie_features.shape[1])\n",
    "index.add(content_matrix)"
   ]
  },
  {
   "cell_type": "code",
   "execution_count": 11,
   "id": "09f4e861",
   "metadata": {},
   "outputs": [
    {
     "name": "stdout",
     "output_type": "stream",
     "text": [
      "Leaves of Grass (2009) 1.0\n",
      "Informant!, The (2009) 1.0\n",
      "In Bruges (2008) 1.0\n",
      "Party Monster (2003) 1.0\n",
      "Confessions of a Dangerous Mind (2002) 1.0\n",
      "Beautiful Creatures (2000) 1.0\n",
      "Man Bites Dog (C'est arrivé près de chez vous) (1992) 1.0\n",
      "Freeway (1996) 1.0\n",
      "Fargo (1996) 1.0\n",
      "Pulp Fiction (1994) 1.0\n"
     ]
    }
   ],
   "source": [
    "# Print 10 movies most similar to Pulp Fiction\n",
    "k = 10\n",
    "cosines, indices = index.search(content_matrix[[movie_index]], k)\n",
    "\n",
    "for c, i in zip(cosines.squeeze(), indices.squeeze()):\n",
    "    print(row_to_title[i], c)"
   ]
  },
  {
   "cell_type": "markdown",
   "id": "d5637567",
   "metadata": {},
   "source": [
    "# Collaborative filtering"
   ]
  },
  {
   "cell_type": "markdown",
   "id": "2d4d8bda",
   "metadata": {},
   "source": [
    "## Construct sparse user-movie matrix"
   ]
  },
  {
   "cell_type": "code",
   "execution_count": 12,
   "id": "3e2b82f2",
   "metadata": {},
   "outputs": [],
   "source": [
    "X = csr_matrix((ratings[\"rating\"], [ratings[\"rowId\"], ratings[\"colId\"]]))"
   ]
  },
  {
   "cell_type": "markdown",
   "id": "33845123",
   "metadata": {},
   "source": [
    "## Cosine similarity based on user-movie matrix"
   ]
  },
  {
   "cell_type": "code",
   "execution_count": 13,
   "id": "f56e4dff",
   "metadata": {},
   "outputs": [],
   "source": [
    "# Create normalised data matrix since then inner product is cosine similarity\n",
    "# Scipy sparse linalg doesn't support keepdims, so we need these transposes to normalise the rows\n",
    "X_normalised = (X.T / spla.norm(X.T, axis=0)).T\n",
    "\n",
    "# Create search index\n",
    "index = faiss.IndexFlatIP(X_normalised.shape[1])\n",
    "index.add(X_normalised)"
   ]
  },
  {
   "cell_type": "code",
   "execution_count": 14,
   "id": "59aef188",
   "metadata": {},
   "outputs": [
    {
     "name": "stdout",
     "output_type": "stream",
     "text": [
      "Pulp Fiction (1994) 1.0000001\n",
      "Silence of the Lambs, The (1991) 0.70938236\n",
      "Shawshank Redemption, The (1994) 0.70236623\n",
      "Seven (a.k.a. Se7en) (1995) 0.69765365\n",
      "Forrest Gump (1994) 0.6855437\n",
      "Usual Suspects, The (1995) 0.6726159\n",
      "Braveheart (1995) 0.62762123\n",
      "Fight Club (1999) 0.6232199\n",
      "Fargo (1996) 0.61034864\n",
      "Terminator 2: Judgment Day (1991) 0.6102841\n"
     ]
    }
   ],
   "source": [
    "# Look up recommendations for Pulp Fiction\n",
    "movie, movie_index = movie_finder(\"pulp fiction\")\n",
    "k = 10                          # we want 4 similar vectors\n",
    "cosines, indices = index.search(X_normalised[[movie_index]], k)\n",
    "\n",
    "for c, i in zip(cosines.squeeze(), indices.squeeze()):\n",
    "    print(row_to_title[i], c)"
   ]
  },
  {
   "cell_type": "markdown",
   "id": "54270f55",
   "metadata": {},
   "source": [
    "## Cosine similarity based on matrix factorisation"
   ]
  },
  {
   "cell_type": "code",
   "execution_count": 15,
   "id": "6b283114",
   "metadata": {},
   "outputs": [],
   "source": [
    "# Run SVD, looking for 20 components\n",
    "n_components = 20\n",
    "\n",
    "svd = TruncatedSVD(n_components=n_components, n_iter=50)\n",
    "Q = svd.fit_transform(X)\n",
    "Q /= np.linalg.norm(Q, axis=0, keepdims=True)\n",
    "\n",
    "# Create approximate nearest neighbour search index\n",
    "index = faiss.IndexFlatIP(n_components)\n",
    "index.add(Q)"
   ]
  },
  {
   "cell_type": "code",
   "execution_count": 16,
   "id": "8a534d18",
   "metadata": {},
   "outputs": [
    {
     "name": "stdout",
     "output_type": "stream",
     "text": [
      "Pulp Fiction (1994) 0.06976162\n",
      "Shawshank Redemption, The (1994) 0.06483554\n",
      "Silence of the Lambs, The (1991) 0.05622734\n",
      "Forrest Gump (1994) 0.05151555\n",
      "Usual Suspects, The (1995) 0.043407068\n",
      "Schindler's List (1993) 0.042082064\n",
      "Seven (a.k.a. Se7en) (1995) 0.041054543\n",
      "Fight Club (1999) 0.04093684\n",
      "Braveheart (1995) 0.037527155\n",
      "Dances with Wolves (1990) 0.030905858\n"
     ]
    }
   ],
   "source": [
    "k = 10\n",
    "cosines, indices = index.search(Q[[movie_index]], k)\n",
    "\n",
    "for c, i in zip(cosines.squeeze(), indices.squeeze()):\n",
    "    print(row_to_title[i], c)"
   ]
  },
  {
   "cell_type": "code",
   "execution_count": null,
   "id": "967cb416",
   "metadata": {},
   "outputs": [],
   "source": []
  }
 ],
 "metadata": {
  "kernelspec": {
   "display_name": "Python 3 (ipykernel)",
   "language": "python",
   "name": "python3"
  },
  "language_info": {
   "codemirror_mode": {
    "name": "ipython",
    "version": 3
   },
   "file_extension": ".py",
   "mimetype": "text/x-python",
   "name": "python",
   "nbconvert_exporter": "python",
   "pygments_lexer": "ipython3",
   "version": "3.10.0"
  }
 },
 "nbformat": 4,
 "nbformat_minor": 5
}
